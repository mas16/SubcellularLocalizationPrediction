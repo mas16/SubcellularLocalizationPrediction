{
 "cells": [
  {
   "cell_type": "markdown",
   "metadata": {},
   "source": [
    "## Building and Tuning a Machine Learning Model to Predict Protein Subcellular Localization from Amino Acid Sequence\n",
    "\n",
    "by MAS, 06/2019\n",
    "\n",
    "### Introduction\n",
    "We now have access to an unprecedented amount of genomic information. However, harnessing the full potential of that information still requires a lot of slow and expensive experiments. In an ideal scenario, we would employ supervised machine learning to make predictions about biology using the data that's already been collected and readily available genomic information. **Here, I build and tune a machine learning model to predict the subcellular localization of proteins based on amino acid sequences.** The end result is a support vector machine (SVM) model that predicts soluble and membrane proteins to with an accuracy of about 85%.\n",
    "\n",
    "### Data Preprocessing\n",
    "To build the model, we need protein amino acid sequences and data describing protein subcellular localization. Fortunately, the bacterium, *E. Coli* (species K12), has been studied to death so the subcellular localization of many of its proteins is known. Additionally, it's whole genome has been sequenced so all of its proteins' amino acid sequences are known. \n",
    "\n",
    "**For Simplicty we will only consider 2 classes for subcellular localization:**  \n",
    "\n",
    "   * In a membrane (\"membrane\")\n",
    "   * Not in a membrane (\"soluble\")\n",
    "\n",
    "The world's repository of protein data is [**Uniprot**](https://www.uniprot.org/help/proteomes_manual). Not only can we access every known protein sequence, we can also look up if a specific protein has had its subcellular localization characterized using its unique uniprot ID.\n",
    "\n",
    "I wrote a ```Python``` [script ```scrape_uniprot.py```](https://github.com/mas16/SubcellularLocalizationPrediction/blob/master/scrape_uniprot.py) (click link for code) to:\n",
    "\n",
    "> 1. Access Uniprot  \n",
    "> 2. Fetch the *E.Coli* protein sequences in [FASTA](https://en.wikipedia.org/wiki/FASTA_format) format  \n",
    "> 3. Extract the uniprot ID and animo acid sequence using regex   \n",
    "> 4. Query Uniprot using the uniprot ID  \n",
    "> 5. Scrape the subcellular localization if documented  \n",
    "> 6. Put everything together in a ```pandas``` dataframe and write to a ```.csv``` file\n",
    "\n",
    "Let's take a look at the output:"
   ]
  },
  {
   "cell_type": "code",
   "execution_count": 8,
   "metadata": {
    "scrolled": true
   },
   "outputs": [
    {
     "name": "stdout",
     "output_type": "stream",
     "text": [
      "           ID                                           Sequence  Local\n",
      "0  A0A385XJ53  MASVSISCPSCSATDGVVRNGKSTAGHQRYLCSHCRKTWQLQFTYT...    NaN\n",
      "1  A0A385XJE6  MFVIWSHRTGFIMSHQLTFADSEFSSKRRQTRKEIFLSRMEQILPW...    NaN\n",
      "2  A0A385XJK5    MTLLQVHNFVDNSGRKKWLSRTLGQTRCPGKSMGREKFVKNNCSAIS    NaN\n",
      "3  A0A385XJL2   MLSTESWDNCEKPPLLFPFTALTCDETPVFSGSVLNLVAHSVDKYGIG    NaN\n",
      "4  A0A385XJL4  MPGNSPHYGRWPQHDFTSLKKLRPQSVTSRIQPGSDVIVCAEMDEQ...    NaN\n"
     ]
    }
   ],
   "source": [
    "# Preview the output from scrape_uniprot.py\n",
    "import pandas as pd\n",
    "\n",
    "# Path to output data\n",
    "datapath = \"/Users/matthewstetz/Documents/Projects/SubcellularLocalizationPrediction/\"\n",
    "\n",
    "df = pd.read_csv(datapath + \"ecoli_proteome.csv\")\n",
    "print(df.head(5))"
   ]
  },
  {
   "cell_type": "markdown",
   "metadata": {},
   "source": [
    "But as you can see, a lot of annotations are missing. The script defines the classes to be:\n",
    "   * Membrane = 1\n",
    "   * Soluble = 0  \n",
    "\n",
    "So let's see how many of each class we have"
   ]
  },
  {
   "cell_type": "code",
   "execution_count": 11,
   "metadata": {},
   "outputs": [
    {
     "name": "stdout",
     "output_type": "stream",
     "text": [
      "Mebrane Count:  (1210, 3)\n",
      "Soluble Count:  (874, 3)\n"
     ]
    }
   ],
   "source": [
    "print(\"Mebrane Count: \", df[df[\"Local\"]==1].shape)\n",
    "print(\"Soluble Count: \", df[df[\"Local\"]==0].shape)"
   ]
  },
  {
   "cell_type": "markdown",
   "metadata": {},
   "source": [
    "So there is a little bit of a class imbalance but we will deal with that when we build the model.\n",
    "\n",
    "### Feature Engineering\n",
    "Ok, now that we have our data in a tidy format, let's start engineering some features. Since the goal of this project is to only use genomic information, let's start by just counting the number of each amino acid. Of course, we need to normalize by the total number of amino acids since proteins can have very different lengths.\n",
    "\n",
    "We can also include some information derived from previous studies that relate amino acid count to specific chemical and physical properties. Specifically, let's use the relationship between amino acid and [hydrophobicity](https://web.expasy.org/protscale/pscale/Hphob.Doolittle.html) and [secondary structure](https://web.expasy.org/protscale/pscale/alpha-helixLevitt.html) as starting points since these are very well calibrated experimentally.\n",
    "\n",
    "I wrote a [script ```feature_extract.py```](https://github.com/mas16/SubcellularLocalizationPrediction/blob/master/feature_extract.py) which:\n",
    "> Reads dataframe with amino acid sequences  \n",
    "> Drops data without documented subcellular localization\n",
    "> Calculates normalized amino acid counts  \n",
    "> Calculates average hydrophobicity  \n",
    "> Calculates average seconday structure propensity \n",
    "> Writes features out to a tidy ```.csv``` output file\n",
    "\n",
    "Let's take a look at the output"
   ]
  },
  {
   "cell_type": "code",
   "execution_count": 12,
   "metadata": {},
   "outputs": [
    {
     "name": "stdout",
     "output_type": "stream",
     "text": [
      "       ID                                           Sequence  Local         I  \\\n",
      "0  A5A605  MRLHVKLKEFLSMFFMAILFFPAFNASLFFTGVKPLYSIIKCSTEI...    1.0  0.132075   \n",
      "1  A5A615                    MNVSSRTVVLINFFAAVGLFTLISMRFGWFI    1.0  0.096774   \n",
      "2  A5A616                    MLGNMNVFMAVLGIILFSGFLAAYFSHKWDD    1.0  0.064516   \n",
      "3  A5A618                      MSTDLKFSLVTTIIVLGLIVAVGLTAALH    1.0  0.103448   \n",
      "4  A5A621                                MIERELGNWKDFIEVMLRK    0.0  0.105263   \n",
      "\n",
      "          V         L         F         C         M         A    ...     \\\n",
      "0  0.056604  0.106918  0.113208  0.025157  0.037736  0.056604    ...      \n",
      "1  0.129032  0.096774  0.161290  0.000000  0.064516  0.064516    ...      \n",
      "2  0.064516  0.129032  0.129032  0.000000  0.096774  0.096774    ...      \n",
      "3  0.137931  0.206897  0.034483  0.000000  0.034483  0.103448    ...      \n",
      "4  0.052632  0.105263  0.052632  0.000000  0.105263  0.000000    ...      \n",
      "\n",
      "          E         Q         D         N         K         R    X    U  \\\n",
      "0  0.018868  0.006289  0.018868  0.062893  0.075472  0.018868  0.0  0.0   \n",
      "1  0.000000  0.000000  0.000000  0.064516  0.000000  0.064516  0.0  0.0   \n",
      "2  0.000000  0.000000  0.064516  0.064516  0.032258  0.000000  0.0  0.0   \n",
      "3  0.000000  0.000000  0.034483  0.000000  0.034483  0.000000  0.0  0.0   \n",
      "4  0.157895  0.000000  0.052632  0.052632  0.105263  0.105263  0.0  0.0   \n",
      "\n",
      "   hydro_mean   ss_mean  \n",
      "0    0.753459  1.020692  \n",
      "1    1.341935  1.008065  \n",
      "2    0.929032  1.060645  \n",
      "3    1.634483  1.044483  \n",
      "4   -0.431579  1.139474  \n",
      "\n",
      "[5 rows x 27 columns]\n"
     ]
    }
   ],
   "source": [
    "df = pd.read_csv(datapath + \"ecoli_proteome_features.csv\")\n",
    "print(df.head(5))"
   ]
  },
  {
   "cell_type": "markdown",
   "metadata": {},
   "source": [
    "Now let's evaluate the features. We want to make sure the features provide some information that can discriminate between soluble and membrane proteins without being colinear with other features.\n",
    "\n",
    "I wrote a [script ```evaluate_features.py```](https://github.com/mas16/SubcellularLocalizationPrediction/blob/master/evaluate_features.py) that does the following:\n",
    "\n",
    "> Reads dataframe of features  \n",
    "> Generates boxplots by classification for each feature   \n",
    "> Generates correlation matrix for all features  \n",
    "\n",
    "Let's see some output\n",
    "\n",
    "The amino acid alanine, \"A\", is roughly equally represented in soluble and membrane proteins:\n",
    "\n",
    "<img src=\"plots/A.png\" width=\"600\">\n",
    "\n",
    "The amino acid aspartatic acid, \"D\", is more represented in soluble proteins:\n",
    "\n",
    "<img src=\"plots/D.png\" width=\"600\">\n",
    "\n",
    "The correlation matrix shows the two features we calculated from the amino acid count: hydrophobicity ```hydro_mean``` and secondary structure propensity ```ss_mean``` are colinear with amino acid count so they are not going to be very useful in our model.\n",
    "\n",
    "<img src=\"plots/correlation_matrix.png\" width=\"800\">"
   ]
  },
  {
   "cell_type": "code",
   "execution_count": null,
   "metadata": {},
   "outputs": [],
   "source": []
  }
 ],
 "metadata": {
  "kernelspec": {
   "display_name": "Python 3",
   "language": "python",
   "name": "python3"
  },
  "language_info": {
   "codemirror_mode": {
    "name": "ipython",
    "version": 3
   },
   "file_extension": ".py",
   "mimetype": "text/x-python",
   "name": "python",
   "nbconvert_exporter": "python",
   "pygments_lexer": "ipython3",
   "version": "3.6.7"
  }
 },
 "nbformat": 4,
 "nbformat_minor": 2
}
